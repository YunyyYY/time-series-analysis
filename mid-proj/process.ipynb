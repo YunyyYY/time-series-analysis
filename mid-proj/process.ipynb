{
 "cells": [
  {
   "cell_type": "code",
   "execution_count": 1,
   "metadata": {},
   "outputs": [],
   "source": [
    "import pandas as pd\n",
    "import numpy as np\n",
    "import datetime\n",
    "import matplotlib.pyplot as plt\n",
    "%matplotlib inline"
   ]
  },
  {
   "cell_type": "markdown",
   "metadata": {},
   "source": [
    "### Pre process, don't use!"
   ]
  },
  {
   "cell_type": "code",
   "execution_count": 4,
   "metadata": {},
   "outputs": [],
   "source": [
    "avo = pd.read_csv(\"avocado.csv\")\n",
    "avo.drop(columns=['Unnamed: 0'], inplace=True)"
   ]
  },
  {
   "cell_type": "code",
   "execution_count": 5,
   "metadata": {},
   "outputs": [
    {
     "data": {
      "text/html": [
       "<div>\n",
       "<style scoped>\n",
       "    .dataframe tbody tr th:only-of-type {\n",
       "        vertical-align: middle;\n",
       "    }\n",
       "\n",
       "    .dataframe tbody tr th {\n",
       "        vertical-align: top;\n",
       "    }\n",
       "\n",
       "    .dataframe thead th {\n",
       "        text-align: right;\n",
       "    }\n",
       "</style>\n",
       "<table border=\"1\" class=\"dataframe\">\n",
       "  <thead>\n",
       "    <tr style=\"text-align: right;\">\n",
       "      <th></th>\n",
       "      <th>Date</th>\n",
       "      <th>AveragePrice</th>\n",
       "      <th>Total Volume</th>\n",
       "      <th>4046</th>\n",
       "      <th>4225</th>\n",
       "      <th>4770</th>\n",
       "      <th>Total Bags</th>\n",
       "      <th>Small Bags</th>\n",
       "      <th>Large Bags</th>\n",
       "      <th>XLarge Bags</th>\n",
       "      <th>type</th>\n",
       "      <th>year</th>\n",
       "      <th>region</th>\n",
       "    </tr>\n",
       "  </thead>\n",
       "  <tbody>\n",
       "    <tr>\n",
       "      <td>0</td>\n",
       "      <td>2015-12-27</td>\n",
       "      <td>1.33</td>\n",
       "      <td>64236.62</td>\n",
       "      <td>1036.74</td>\n",
       "      <td>54454.85</td>\n",
       "      <td>48.16</td>\n",
       "      <td>8696.87</td>\n",
       "      <td>8603.62</td>\n",
       "      <td>93.25</td>\n",
       "      <td>0.0</td>\n",
       "      <td>conventional</td>\n",
       "      <td>2015</td>\n",
       "      <td>Albany</td>\n",
       "    </tr>\n",
       "    <tr>\n",
       "      <td>1</td>\n",
       "      <td>2015-12-20</td>\n",
       "      <td>1.35</td>\n",
       "      <td>54876.98</td>\n",
       "      <td>674.28</td>\n",
       "      <td>44638.81</td>\n",
       "      <td>58.33</td>\n",
       "      <td>9505.56</td>\n",
       "      <td>9408.07</td>\n",
       "      <td>97.49</td>\n",
       "      <td>0.0</td>\n",
       "      <td>conventional</td>\n",
       "      <td>2015</td>\n",
       "      <td>Albany</td>\n",
       "    </tr>\n",
       "    <tr>\n",
       "      <td>2</td>\n",
       "      <td>2015-12-13</td>\n",
       "      <td>0.93</td>\n",
       "      <td>118220.22</td>\n",
       "      <td>794.70</td>\n",
       "      <td>109149.67</td>\n",
       "      <td>130.50</td>\n",
       "      <td>8145.35</td>\n",
       "      <td>8042.21</td>\n",
       "      <td>103.14</td>\n",
       "      <td>0.0</td>\n",
       "      <td>conventional</td>\n",
       "      <td>2015</td>\n",
       "      <td>Albany</td>\n",
       "    </tr>\n",
       "    <tr>\n",
       "      <td>3</td>\n",
       "      <td>2015-12-06</td>\n",
       "      <td>1.08</td>\n",
       "      <td>78992.15</td>\n",
       "      <td>1132.00</td>\n",
       "      <td>71976.41</td>\n",
       "      <td>72.58</td>\n",
       "      <td>5811.16</td>\n",
       "      <td>5677.40</td>\n",
       "      <td>133.76</td>\n",
       "      <td>0.0</td>\n",
       "      <td>conventional</td>\n",
       "      <td>2015</td>\n",
       "      <td>Albany</td>\n",
       "    </tr>\n",
       "    <tr>\n",
       "      <td>4</td>\n",
       "      <td>2015-11-29</td>\n",
       "      <td>1.28</td>\n",
       "      <td>51039.60</td>\n",
       "      <td>941.48</td>\n",
       "      <td>43838.39</td>\n",
       "      <td>75.78</td>\n",
       "      <td>6183.95</td>\n",
       "      <td>5986.26</td>\n",
       "      <td>197.69</td>\n",
       "      <td>0.0</td>\n",
       "      <td>conventional</td>\n",
       "      <td>2015</td>\n",
       "      <td>Albany</td>\n",
       "    </tr>\n",
       "  </tbody>\n",
       "</table>\n",
       "</div>"
      ],
      "text/plain": [
       "         Date  AveragePrice  Total Volume     4046       4225    4770  \\\n",
       "0  2015-12-27          1.33      64236.62  1036.74   54454.85   48.16   \n",
       "1  2015-12-20          1.35      54876.98   674.28   44638.81   58.33   \n",
       "2  2015-12-13          0.93     118220.22   794.70  109149.67  130.50   \n",
       "3  2015-12-06          1.08      78992.15  1132.00   71976.41   72.58   \n",
       "4  2015-11-29          1.28      51039.60   941.48   43838.39   75.78   \n",
       "\n",
       "   Total Bags  Small Bags  Large Bags  XLarge Bags          type  year  region  \n",
       "0     8696.87     8603.62       93.25          0.0  conventional  2015  Albany  \n",
       "1     9505.56     9408.07       97.49          0.0  conventional  2015  Albany  \n",
       "2     8145.35     8042.21      103.14          0.0  conventional  2015  Albany  \n",
       "3     5811.16     5677.40      133.76          0.0  conventional  2015  Albany  \n",
       "4     6183.95     5986.26      197.69          0.0  conventional  2015  Albany  "
      ]
     },
     "execution_count": 5,
     "metadata": {},
     "output_type": "execute_result"
    }
   ],
   "source": [
    "avo.head()"
   ]
  },
  {
   "cell_type": "code",
   "execution_count": 8,
   "metadata": {},
   "outputs": [],
   "source": [
    "# avo[(avo.region == \"California\") & (avo.type == \"conventional\")]"
   ]
  },
  {
   "cell_type": "code",
   "execution_count": 9,
   "metadata": {},
   "outputs": [],
   "source": [
    "cal = pd.DataFrame(avo[avo.region == \"California\"])"
   ]
  },
  {
   "cell_type": "code",
   "execution_count": 11,
   "metadata": {},
   "outputs": [
    {
     "data": {
      "text/html": [
       "<div>\n",
       "<style scoped>\n",
       "    .dataframe tbody tr th:only-of-type {\n",
       "        vertical-align: middle;\n",
       "    }\n",
       "\n",
       "    .dataframe tbody tr th {\n",
       "        vertical-align: top;\n",
       "    }\n",
       "\n",
       "    .dataframe thead th {\n",
       "        text-align: right;\n",
       "    }\n",
       "</style>\n",
       "<table border=\"1\" class=\"dataframe\">\n",
       "  <thead>\n",
       "    <tr style=\"text-align: right;\">\n",
       "      <th></th>\n",
       "      <th>Date</th>\n",
       "      <th>AveragePrice</th>\n",
       "      <th>Total Volume</th>\n",
       "      <th>Total Bags</th>\n",
       "      <th>type</th>\n",
       "    </tr>\n",
       "  </thead>\n",
       "  <tbody>\n",
       "    <tr>\n",
       "      <td>312</td>\n",
       "      <td>2015-12-27</td>\n",
       "      <td>0.90</td>\n",
       "      <td>5040365.47</td>\n",
       "      <td>1212707.01</td>\n",
       "      <td>conventional</td>\n",
       "    </tr>\n",
       "    <tr>\n",
       "      <td>313</td>\n",
       "      <td>2015-12-20</td>\n",
       "      <td>0.94</td>\n",
       "      <td>4695737.21</td>\n",
       "      <td>1209165.20</td>\n",
       "      <td>conventional</td>\n",
       "    </tr>\n",
       "    <tr>\n",
       "      <td>314</td>\n",
       "      <td>2015-12-13</td>\n",
       "      <td>0.87</td>\n",
       "      <td>5259354.30</td>\n",
       "      <td>1592438.33</td>\n",
       "      <td>conventional</td>\n",
       "    </tr>\n",
       "    <tr>\n",
       "      <td>315</td>\n",
       "      <td>2015-12-06</td>\n",
       "      <td>0.78</td>\n",
       "      <td>5775536.27</td>\n",
       "      <td>1510267.34</td>\n",
       "      <td>conventional</td>\n",
       "    </tr>\n",
       "    <tr>\n",
       "      <td>316</td>\n",
       "      <td>2015-11-29</td>\n",
       "      <td>0.91</td>\n",
       "      <td>4575710.62</td>\n",
       "      <td>1081497.47</td>\n",
       "      <td>conventional</td>\n",
       "    </tr>\n",
       "  </tbody>\n",
       "</table>\n",
       "</div>"
      ],
      "text/plain": [
       "           Date  AveragePrice  Total Volume  Total Bags          type\n",
       "312  2015-12-27          0.90    5040365.47  1212707.01  conventional\n",
       "313  2015-12-20          0.94    4695737.21  1209165.20  conventional\n",
       "314  2015-12-13          0.87    5259354.30  1592438.33  conventional\n",
       "315  2015-12-06          0.78    5775536.27  1510267.34  conventional\n",
       "316  2015-11-29          0.91    4575710.62  1081497.47  conventional"
      ]
     },
     "execution_count": 11,
     "metadata": {},
     "output_type": "execute_result"
    }
   ],
   "source": [
    "cal.drop(columns=['4046', \"4225\", '4770', 'Small Bags', \n",
    "                  'Large Bags', 'XLarge Bags', 'year', 'region'], inplace=True)\n",
    "cal.head()"
   ]
  },
  {
   "cell_type": "code",
   "execution_count": 17,
   "metadata": {},
   "outputs": [],
   "source": [
    "cal[\"Timestamp\"] = avo.Date.apply(lambda x:\n",
    "                                  int(datetime.datetime.strptime(x, '%Y-%m-%d').timestamp()))\n",
    "cal = cal.sort_values(by=['Timestamp']).reset_index()"
   ]
  },
  {
   "cell_type": "code",
   "execution_count": 21,
   "metadata": {},
   "outputs": [],
   "source": [
    "cal.drop(columns=['index'], inplace=True)"
   ]
  },
  {
   "cell_type": "code",
   "execution_count": 22,
   "metadata": {},
   "outputs": [
    {
     "data": {
      "text/html": [
       "<div>\n",
       "<style scoped>\n",
       "    .dataframe tbody tr th:only-of-type {\n",
       "        vertical-align: middle;\n",
       "    }\n",
       "\n",
       "    .dataframe tbody tr th {\n",
       "        vertical-align: top;\n",
       "    }\n",
       "\n",
       "    .dataframe thead th {\n",
       "        text-align: right;\n",
       "    }\n",
       "</style>\n",
       "<table border=\"1\" class=\"dataframe\">\n",
       "  <thead>\n",
       "    <tr style=\"text-align: right;\">\n",
       "      <th></th>\n",
       "      <th>Date</th>\n",
       "      <th>AveragePrice</th>\n",
       "      <th>Total Volume</th>\n",
       "      <th>Total Bags</th>\n",
       "      <th>type</th>\n",
       "      <th>Timestamp</th>\n",
       "    </tr>\n",
       "  </thead>\n",
       "  <tbody>\n",
       "    <tr>\n",
       "      <td>0</td>\n",
       "      <td>2015-01-04</td>\n",
       "      <td>0.93</td>\n",
       "      <td>5777334.90</td>\n",
       "      <td>528451.74</td>\n",
       "      <td>conventional</td>\n",
       "      <td>1420347600</td>\n",
       "    </tr>\n",
       "    <tr>\n",
       "      <td>1</td>\n",
       "      <td>2015-01-04</td>\n",
       "      <td>1.24</td>\n",
       "      <td>142349.77</td>\n",
       "      <td>9144.15</td>\n",
       "      <td>organic</td>\n",
       "      <td>1420347600</td>\n",
       "    </tr>\n",
       "    <tr>\n",
       "      <td>2</td>\n",
       "      <td>2015-01-11</td>\n",
       "      <td>0.92</td>\n",
       "      <td>6024932.34</td>\n",
       "      <td>546047.53</td>\n",
       "      <td>conventional</td>\n",
       "      <td>1420952400</td>\n",
       "    </tr>\n",
       "    <tr>\n",
       "      <td>3</td>\n",
       "      <td>2015-01-11</td>\n",
       "      <td>1.10</td>\n",
       "      <td>158110.68</td>\n",
       "      <td>8421.43</td>\n",
       "      <td>organic</td>\n",
       "      <td>1420952400</td>\n",
       "    </tr>\n",
       "    <tr>\n",
       "      <td>4</td>\n",
       "      <td>2015-01-18</td>\n",
       "      <td>1.02</td>\n",
       "      <td>5570915.26</td>\n",
       "      <td>559990.93</td>\n",
       "      <td>conventional</td>\n",
       "      <td>1421557200</td>\n",
       "    </tr>\n",
       "  </tbody>\n",
       "</table>\n",
       "</div>"
      ],
      "text/plain": [
       "         Date  AveragePrice  Total Volume  Total Bags          type  \\\n",
       "0  2015-01-04          0.93    5777334.90   528451.74  conventional   \n",
       "1  2015-01-04          1.24     142349.77     9144.15       organic   \n",
       "2  2015-01-11          0.92    6024932.34   546047.53  conventional   \n",
       "3  2015-01-11          1.10     158110.68     8421.43       organic   \n",
       "4  2015-01-18          1.02    5570915.26   559990.93  conventional   \n",
       "\n",
       "    Timestamp  \n",
       "0  1420347600  \n",
       "1  1420347600  \n",
       "2  1420952400  \n",
       "3  1420952400  \n",
       "4  1421557200  "
      ]
     },
     "execution_count": 22,
     "metadata": {},
     "output_type": "execute_result"
    }
   ],
   "source": [
    "cal.head()"
   ]
  },
  {
   "cell_type": "code",
   "execution_count": 23,
   "metadata": {},
   "outputs": [],
   "source": [
    "cal.to_csv(\"California.csv\", index=False)"
   ]
  },
  {
   "cell_type": "code",
   "execution_count": 59,
   "metadata": {},
   "outputs": [],
   "source": [
    "avo = pd.read_csv(\"avocado.csv\")\n",
    "avo.rename(columns={'Unnamed: 0':'week'}, inplace=True)\n",
    "avo[\"Timestamp\"] = avo.Date.apply(lambda x:\n",
    "                                 int(datetime.datetime.strptime(x, '%Y-%m-%d').timestamp()))\n",
    "avo = avo.sort_values(by=['region', 'Timestamp']).reset_index()"
   ]
  },
  {
   "cell_type": "code",
   "execution_count": 60,
   "metadata": {},
   "outputs": [
    {
     "data": {
      "text/plain": [
       "Index(['index', 'week', 'Date', 'AveragePrice', 'Total Volume', '4046', '4225',\n",
       "       '4770', 'Total Bags', 'Small Bags', 'Large Bags', 'XLarge Bags', 'type',\n",
       "       'year', 'region', 'Timestamp'],\n",
       "      dtype='object')"
      ]
     },
     "execution_count": 60,
     "metadata": {},
     "output_type": "execute_result"
    }
   ],
   "source": [
    "avo.columns"
   ]
  },
  {
   "cell_type": "code",
   "execution_count": 5,
   "metadata": {},
   "outputs": [],
   "source": [
    "avo.rename(columns={'avg$':'AvgPrice'}, inplace=True)"
   ]
  },
  {
   "cell_type": "code",
   "execution_count": 6,
   "metadata": {},
   "outputs": [],
   "source": [
    "avo.drop(columns=['index', 'week'], inplace=True)\n",
    "avo.to_csv(\"avocado.csv\", index=False)"
   ]
  },
  {
   "cell_type": "markdown",
   "metadata": {},
   "source": [
    "### Start process"
   ]
  },
  {
   "cell_type": "code",
   "execution_count": 7,
   "metadata": {},
   "outputs": [
    {
     "data": {
      "text/html": [
       "<div>\n",
       "<style scoped>\n",
       "    .dataframe tbody tr th:only-of-type {\n",
       "        vertical-align: middle;\n",
       "    }\n",
       "\n",
       "    .dataframe tbody tr th {\n",
       "        vertical-align: top;\n",
       "    }\n",
       "\n",
       "    .dataframe thead th {\n",
       "        text-align: right;\n",
       "    }\n",
       "</style>\n",
       "<table border=\"1\" class=\"dataframe\">\n",
       "  <thead>\n",
       "    <tr style=\"text-align: right;\">\n",
       "      <th></th>\n",
       "      <th>Date</th>\n",
       "      <th>AvgPrice</th>\n",
       "      <th>Total Volume</th>\n",
       "      <th>4046</th>\n",
       "      <th>4225</th>\n",
       "      <th>4770</th>\n",
       "      <th>Total Bags</th>\n",
       "      <th>Small Bags</th>\n",
       "      <th>Large Bags</th>\n",
       "      <th>XLarge Bags</th>\n",
       "      <th>type</th>\n",
       "      <th>year</th>\n",
       "      <th>region</th>\n",
       "      <th>Timestamp</th>\n",
       "    </tr>\n",
       "  </thead>\n",
       "  <tbody>\n",
       "    <tr>\n",
       "      <td>0</td>\n",
       "      <td>2015-02-01</td>\n",
       "      <td>0.99</td>\n",
       "      <td>70873.60</td>\n",
       "      <td>1353.90</td>\n",
       "      <td>60017.20</td>\n",
       "      <td>179.32</td>\n",
       "      <td>9323.18</td>\n",
       "      <td>9170.82</td>\n",
       "      <td>152.36</td>\n",
       "      <td>0.0</td>\n",
       "      <td>conventional</td>\n",
       "      <td>2015</td>\n",
       "      <td>Albany</td>\n",
       "      <td>1420088520</td>\n",
       "    </tr>\n",
       "    <tr>\n",
       "      <td>1</td>\n",
       "      <td>2015-02-01</td>\n",
       "      <td>1.83</td>\n",
       "      <td>1228.51</td>\n",
       "      <td>33.12</td>\n",
       "      <td>99.36</td>\n",
       "      <td>0.00</td>\n",
       "      <td>1096.03</td>\n",
       "      <td>1096.03</td>\n",
       "      <td>0.00</td>\n",
       "      <td>0.0</td>\n",
       "      <td>organic</td>\n",
       "      <td>2015</td>\n",
       "      <td>Albany</td>\n",
       "      <td>1420088520</td>\n",
       "    </tr>\n",
       "    <tr>\n",
       "      <td>2</td>\n",
       "      <td>2015-03-01</td>\n",
       "      <td>0.99</td>\n",
       "      <td>55595.74</td>\n",
       "      <td>629.46</td>\n",
       "      <td>45633.34</td>\n",
       "      <td>181.49</td>\n",
       "      <td>9151.45</td>\n",
       "      <td>8986.06</td>\n",
       "      <td>165.39</td>\n",
       "      <td>0.0</td>\n",
       "      <td>conventional</td>\n",
       "      <td>2015</td>\n",
       "      <td>Albany</td>\n",
       "      <td>1420088580</td>\n",
       "    </tr>\n",
       "    <tr>\n",
       "      <td>3</td>\n",
       "      <td>2015-03-01</td>\n",
       "      <td>1.76</td>\n",
       "      <td>1663.35</td>\n",
       "      <td>32.82</td>\n",
       "      <td>105.25</td>\n",
       "      <td>0.00</td>\n",
       "      <td>1525.28</td>\n",
       "      <td>1525.28</td>\n",
       "      <td>0.00</td>\n",
       "      <td>0.0</td>\n",
       "      <td>organic</td>\n",
       "      <td>2015</td>\n",
       "      <td>Albany</td>\n",
       "      <td>1420088580</td>\n",
       "    </tr>\n",
       "    <tr>\n",
       "      <td>4</td>\n",
       "      <td>2015-11-01</td>\n",
       "      <td>1.02</td>\n",
       "      <td>99811.42</td>\n",
       "      <td>1022.15</td>\n",
       "      <td>87315.57</td>\n",
       "      <td>85.34</td>\n",
       "      <td>11388.36</td>\n",
       "      <td>11104.53</td>\n",
       "      <td>283.83</td>\n",
       "      <td>0.0</td>\n",
       "      <td>conventional</td>\n",
       "      <td>2015</td>\n",
       "      <td>Albany</td>\n",
       "      <td>1420089060</td>\n",
       "    </tr>\n",
       "  </tbody>\n",
       "</table>\n",
       "</div>"
      ],
      "text/plain": [
       "         Date  AvgPrice  Total Volume     4046      4225    4770  Total Bags  \\\n",
       "0  2015-02-01      0.99      70873.60  1353.90  60017.20  179.32     9323.18   \n",
       "1  2015-02-01      1.83       1228.51    33.12     99.36    0.00     1096.03   \n",
       "2  2015-03-01      0.99      55595.74   629.46  45633.34  181.49     9151.45   \n",
       "3  2015-03-01      1.76       1663.35    32.82    105.25    0.00     1525.28   \n",
       "4  2015-11-01      1.02      99811.42  1022.15  87315.57   85.34    11388.36   \n",
       "\n",
       "   Small Bags  Large Bags  XLarge Bags          type  year  region   Timestamp  \n",
       "0     9170.82      152.36          0.0  conventional  2015  Albany  1420088520  \n",
       "1     1096.03        0.00          0.0       organic  2015  Albany  1420088520  \n",
       "2     8986.06      165.39          0.0  conventional  2015  Albany  1420088580  \n",
       "3     1525.28        0.00          0.0       organic  2015  Albany  1420088580  \n",
       "4    11104.53      283.83          0.0  conventional  2015  Albany  1420089060  "
      ]
     },
     "execution_count": 7,
     "metadata": {},
     "output_type": "execute_result"
    }
   ],
   "source": [
    "avo = pd.read_csv(\"avocado.csv\")\n",
    "avo.head()"
   ]
  },
  {
   "cell_type": "code",
   "execution_count": 66,
   "metadata": {},
   "outputs": [
    {
     "data": {
      "text/plain": [
       "array(['Albany', 'Atlanta', 'BaltimoreWashington', 'Boise', 'Boston',\n",
       "       'BuffaloRochester', 'California', 'Charlotte', 'Chicago',\n",
       "       'CincinnatiDayton', 'Columbus', 'DallasFtWorth', 'Denver',\n",
       "       'Detroit', 'GrandRapids', 'GreatLakes', 'HarrisburgScranton',\n",
       "       'HartfordSpringfield', 'Houston', 'Indianapolis', 'Jacksonville',\n",
       "       'LasVegas', 'LosAngeles', 'Louisville', 'MiamiFtLauderdale',\n",
       "       'Midsouth', 'Nashville', 'NewOrleansMobile', 'NewYork',\n",
       "       'Northeast', 'NorthernNewEngland', 'Orlando', 'Philadelphia',\n",
       "       'PhoenixTucson', 'Pittsburgh', 'Plains', 'Portland',\n",
       "       'RaleighGreensboro', 'RichmondNorfolk', 'Roanoke', 'Sacramento',\n",
       "       'SanDiego', 'SanFrancisco', 'Seattle', 'SouthCarolina',\n",
       "       'SouthCentral', 'Southeast', 'Spokane', 'StLouis', 'Syracuse',\n",
       "       'Tampa', 'TotalUS', 'West', 'WestTexNewMexico'], dtype=object)"
      ]
     },
     "execution_count": 66,
     "metadata": {},
     "output_type": "execute_result"
    }
   ],
   "source": [
    "avo.region.unique()"
   ]
  },
  {
   "cell_type": "markdown",
   "metadata": {},
   "source": [
    "### Background information\n",
    "\n",
    "Avocados are grown commercially in parts of **Florida, California and Hawaii**.\n",
    "\n",
    "- https://www.hunker.com/12003820/in-what-areas-of-the-united-states-can-you-grow-an-avocado-tree"
   ]
  },
  {
   "cell_type": "code",
   "execution_count": 19,
   "metadata": {},
   "outputs": [
    {
     "data": {
      "image/png": "[encoded data removed]",
      "text/plain": [
       "<Figure size 432x288 with 1 Axes>"
      ]
     },
     "metadata": {
      "needs_background": "light"
     },
     "output_type": "display_data"
    }
   ],
   "source": [
    "avo[(avo.region == 'California') & (avo.type == \"conventional\")].AvgPrice.plot.line(label=\"conv\")\n",
    "avo[(avo.region == 'California') & (avo.type == \"organic\")].AvgPrice.plot.line(label=\"org\")\n",
    "f = plt.legend()"
   ]
  },
  {
   "cell_type": "code",
   "execution_count": 48,
   "metadata": {},
   "outputs": [],
   "source": [
    "p1 = pd.DataFrame(avo[avo.type == \"organic\"])\n",
    "p2 = pd.DataFrame(avo[avo.type == \"conventional\"])"
   ]
  },
  {
   "cell_type": "code",
   "execution_count": 49,
   "metadata": {},
   "outputs": [],
   "source": [
    "p1.rename(columns={'AvgPrice':'org'}, inplace=True)\n",
    "p2.rename(columns={'AvgPrice':'conv'}, inplace=True)"
   ]
  },
  {
   "cell_type": "code",
   "execution_count": 55,
   "metadata": {},
   "outputs": [],
   "source": [
    "_df = p1.merge(p2, on=[\"region\", \"Timestamp\"])"
   ]
  },
  {
   "cell_type": "code",
   "execution_count": 65,
   "metadata": {},
   "outputs": [],
   "source": [
    "_df.drop(columns=['Date_y', 'Small Bags_y', 'Large Bags_y', 'XLarge Bags_y', \n",
    "                  'Small Bags_x', 'Large Bags_x', 'XLarge Bags_x', '4046_x', \n",
    "                  '4225_x', '4770_x', '4046_y', '4225_y', '4770_y''type_x', \n",
    "                  'year_y', 'type_y'], inplace=True)"
   ]
  },
  {
   "cell_type": "code",
   "execution_count": 69,
   "metadata": {},
   "outputs": [],
   "source": [
    "_df.rename(columns={'Total Volume_x':'TotalVolOrg', \n",
    "                    'Total Volume_y':'TotalVolConv', \n",
    "                    'Total Bags_x':'TotalBagsOrg', \n",
    "                    'Total Bags_y':'TotalBagsConv', \n",
    "                    'year_x': 'year', 'Date_x':'Date'\n",
    "                   }, inplace=True)"
   ]
  },
  {
   "cell_type": "code",
   "execution_count": 73,
   "metadata": {},
   "outputs": [],
   "source": [
    "_df[\"diff\"] = _df.org - _df.conv"
   ]
  },
  {
   "cell_type": "code",
   "execution_count": 74,
   "metadata": {},
   "outputs": [
    {
     "data": {
      "text/html": [
       "<div>\n",
       "<style scoped>\n",
       "    .dataframe tbody tr th:only-of-type {\n",
       "        vertical-align: middle;\n",
       "    }\n",
       "\n",
       "    .dataframe tbody tr th {\n",
       "        vertical-align: top;\n",
       "    }\n",
       "\n",
       "    .dataframe thead th {\n",
       "        text-align: right;\n",
       "    }\n",
       "</style>\n",
       "<table border=\"1\" class=\"dataframe\">\n",
       "  <thead>\n",
       "    <tr style=\"text-align: right;\">\n",
       "      <th></th>\n",
       "      <th>Date</th>\n",
       "      <th>org</th>\n",
       "      <th>TotalVolOrg</th>\n",
       "      <th>TotalBagsOrg</th>\n",
       "      <th>year</th>\n",
       "      <th>region</th>\n",
       "      <th>Timestamp</th>\n",
       "      <th>conv</th>\n",
       "      <th>TotalVolConv</th>\n",
       "      <th>TotalBagsConv</th>\n",
       "      <th>diff</th>\n",
       "    </tr>\n",
       "  </thead>\n",
       "  <tbody>\n",
       "    <tr>\n",
       "      <td>0</td>\n",
       "      <td>2015-02-01</td>\n",
       "      <td>1.83</td>\n",
       "      <td>1228.51</td>\n",
       "      <td>1096.03</td>\n",
       "      <td>2015</td>\n",
       "      <td>Albany</td>\n",
       "      <td>1420088520</td>\n",
       "      <td>0.99</td>\n",
       "      <td>70873.60</td>\n",
       "      <td>9323.18</td>\n",
       "      <td>0.84</td>\n",
       "    </tr>\n",
       "    <tr>\n",
       "      <td>1</td>\n",
       "      <td>2015-03-01</td>\n",
       "      <td>1.76</td>\n",
       "      <td>1663.35</td>\n",
       "      <td>1525.28</td>\n",
       "      <td>2015</td>\n",
       "      <td>Albany</td>\n",
       "      <td>1420088580</td>\n",
       "      <td>0.99</td>\n",
       "      <td>55595.74</td>\n",
       "      <td>9151.45</td>\n",
       "      <td>0.77</td>\n",
       "    </tr>\n",
       "    <tr>\n",
       "      <td>2</td>\n",
       "      <td>2015-11-01</td>\n",
       "      <td>1.88</td>\n",
       "      <td>1021.68</td>\n",
       "      <td>872.63</td>\n",
       "      <td>2015</td>\n",
       "      <td>Albany</td>\n",
       "      <td>1420089060</td>\n",
       "      <td>1.02</td>\n",
       "      <td>99811.42</td>\n",
       "      <td>11388.36</td>\n",
       "      <td>0.86</td>\n",
       "    </tr>\n",
       "    <tr>\n",
       "      <td>3</td>\n",
       "      <td>2015-08-02</td>\n",
       "      <td>2.00</td>\n",
       "      <td>1223.94</td>\n",
       "      <td>1102.66</td>\n",
       "      <td>2015</td>\n",
       "      <td>Albany</td>\n",
       "      <td>1420175280</td>\n",
       "      <td>1.45</td>\n",
       "      <td>75133.10</td>\n",
       "      <td>11847.02</td>\n",
       "      <td>0.55</td>\n",
       "    </tr>\n",
       "    <tr>\n",
       "      <td>4</td>\n",
       "      <td>2015-05-03</td>\n",
       "      <td>2.03</td>\n",
       "      <td>1798.99</td>\n",
       "      <td>1610.44</td>\n",
       "      <td>2015</td>\n",
       "      <td>Albany</td>\n",
       "      <td>1420261500</td>\n",
       "      <td>1.20</td>\n",
       "      <td>59197.67</td>\n",
       "      <td>12570.51</td>\n",
       "      <td>0.83</td>\n",
       "    </tr>\n",
       "  </tbody>\n",
       "</table>\n",
       "</div>"
      ],
      "text/plain": [
       "         Date   org  TotalVolOrg  TotalBagsOrg  year  region   Timestamp  \\\n",
       "0  2015-02-01  1.83      1228.51       1096.03  2015  Albany  1420088520   \n",
       "1  2015-03-01  1.76      1663.35       1525.28  2015  Albany  1420088580   \n",
       "2  2015-11-01  1.88      1021.68        872.63  2015  Albany  1420089060   \n",
       "3  2015-08-02  2.00      1223.94       1102.66  2015  Albany  1420175280   \n",
       "4  2015-05-03  2.03      1798.99       1610.44  2015  Albany  1420261500   \n",
       "\n",
       "   conv  TotalVolConv  TotalBagsConv  diff  \n",
       "0  0.99      70873.60        9323.18  0.84  \n",
       "1  0.99      55595.74        9151.45  0.77  \n",
       "2  1.02      99811.42       11388.36  0.86  \n",
       "3  1.45      75133.10       11847.02  0.55  \n",
       "4  1.20      59197.67       12570.51  0.83  "
      ]
     },
     "execution_count": 74,
     "metadata": {},
     "output_type": "execute_result"
    }
   ],
   "source": [
    "_df.head(5)"
   ]
  },
  {
   "cell_type": "code",
   "execution_count": 75,
   "metadata": {},
   "outputs": [],
   "source": [
    "_df.to_csv(\"merge.csv\", index=False)"
   ]
  },
  {
   "cell_type": "code",
   "execution_count": 77,
   "metadata": {},
   "outputs": [
    {
     "data": {
      "text/plain": [
       "<matplotlib.axes._subplots.AxesSubplot at 0x124000518>"
      ]
     },
     "execution_count": 77,
     "metadata": {},
     "output_type": "execute_result"
    },
    {
     "data": {
      "image/png": "[encoded data removed]",
      "text/plain": [
       "<Figure size 432x288 with 1 Axes>"
      ]
     },
     "metadata": {
      "needs_background": "light"
     },
     "output_type": "display_data"
    }
   ],
   "source": [
    "_df[_df.region == 'Albany']['diff'].plot.line()"
   ]
  },
  {
   "cell_type": "markdown",
   "metadata": {},
   "source": [
    "#### Pattern\n",
    "\n",
    "- Similar and regular:\n",
    "\n",
    "> Atlanta, BaltimoreWashington (east), California, LosAngeles, Midsouth, NewOrleansMobile, PhoenixTucson, Portland (northwest), Orlando, \n",
    "\n",
    "- Twisted:\n",
    "\n",
    "> Chicago, Detroit, Louisville (central), MiamiFtLauderdale (south) \n",
    "\n",
    "- SanDiego: increasing variance\n",
    "- Tampa\n",
    "\n",
    "#### Pattern - diff\n",
    "\n",
    "- Decreasing: NewYork, Orlando, \n",
    "- Uniform: Pittsburgh, Seattle,\n",
    "- Increasing: SanDiego"
   ]
  },
  {
   "cell_type": "code",
   "execution_count": 79,
   "metadata": {},
   "outputs": [],
   "source": [
    "_df[_df.region == 'Pittsburgh'].to_csv(\"Pittsburgh.csv\", index=False)\n",
    "# _df.to_csv(\"merge.csv\", index=False)"
   ]
  },
  {
   "cell_type": "code",
   "execution_count": 80,
   "metadata": {},
   "outputs": [],
   "source": [
    "_df[_df.region == 'California'].to_csv(\"California.csv\", index=False)"
   ]
  },
  {
   "cell_type": "code",
   "execution_count": 2,
   "metadata": {},
   "outputs": [],
   "source": [
    "df = pd.read_csv(\"California.csv\")"
   ]
  },
  {
   "cell_type": "code",
   "execution_count": 3,
   "metadata": {},
   "outputs": [
    {
     "data": {
      "text/html": [
       "<div>\n",
       "<style scoped>\n",
       "    .dataframe tbody tr th:only-of-type {\n",
       "        vertical-align: middle;\n",
       "    }\n",
       "\n",
       "    .dataframe tbody tr th {\n",
       "        vertical-align: top;\n",
       "    }\n",
       "\n",
       "    .dataframe thead th {\n",
       "        text-align: right;\n",
       "    }\n",
       "</style>\n",
       "<table border=\"1\" class=\"dataframe\">\n",
       "  <thead>\n",
       "    <tr style=\"text-align: right;\">\n",
       "      <th></th>\n",
       "      <th>Date</th>\n",
       "      <th>org</th>\n",
       "      <th>TotalVolOrg</th>\n",
       "      <th>TotalBagsOrg</th>\n",
       "      <th>year</th>\n",
       "      <th>region</th>\n",
       "      <th>Timestamp</th>\n",
       "      <th>conv</th>\n",
       "      <th>TotalVolConv</th>\n",
       "      <th>TotalBagsConv</th>\n",
       "      <th>diff</th>\n",
       "    </tr>\n",
       "  </thead>\n",
       "  <tbody>\n",
       "    <tr>\n",
       "      <td>0</td>\n",
       "      <td>2015-02-01</td>\n",
       "      <td>1.11</td>\n",
       "      <td>196031.90</td>\n",
       "      <td>11697.02</td>\n",
       "      <td>2015</td>\n",
       "      <td>California</td>\n",
       "      <td>1420088520</td>\n",
       "      <td>0.85</td>\n",
       "      <td>9032180.67</td>\n",
       "      <td>600149.24</td>\n",
       "      <td>0.26</td>\n",
       "    </tr>\n",
       "    <tr>\n",
       "      <td>1</td>\n",
       "      <td>2015-03-01</td>\n",
       "      <td>1.15</td>\n",
       "      <td>250298.58</td>\n",
       "      <td>12478.15</td>\n",
       "      <td>2015</td>\n",
       "      <td>California</td>\n",
       "      <td>1420088580</td>\n",
       "      <td>0.84</td>\n",
       "      <td>6700134.25</td>\n",
       "      <td>552070.01</td>\n",
       "      <td>0.31</td>\n",
       "    </tr>\n",
       "    <tr>\n",
       "      <td>2</td>\n",
       "      <td>2015-11-01</td>\n",
       "      <td>1.60</td>\n",
       "      <td>104331.19</td>\n",
       "      <td>20872.84</td>\n",
       "      <td>2015</td>\n",
       "      <td>California</td>\n",
       "      <td>1420089060</td>\n",
       "      <td>0.95</td>\n",
       "      <td>5830427.96</td>\n",
       "      <td>651915.96</td>\n",
       "      <td>0.65</td>\n",
       "    </tr>\n",
       "    <tr>\n",
       "      <td>3</td>\n",
       "      <td>2015-08-02</td>\n",
       "      <td>1.99</td>\n",
       "      <td>89435.60</td>\n",
       "      <td>9234.73</td>\n",
       "      <td>2015</td>\n",
       "      <td>California</td>\n",
       "      <td>1420175280</td>\n",
       "      <td>1.16</td>\n",
       "      <td>5428238.87</td>\n",
       "      <td>566776.08</td>\n",
       "      <td>0.83</td>\n",
       "    </tr>\n",
       "    <tr>\n",
       "      <td>4</td>\n",
       "      <td>2015-05-03</td>\n",
       "      <td>1.48</td>\n",
       "      <td>119059.56</td>\n",
       "      <td>13339.71</td>\n",
       "      <td>2015</td>\n",
       "      <td>California</td>\n",
       "      <td>1420261500</td>\n",
       "      <td>0.88</td>\n",
       "      <td>8567534.49</td>\n",
       "      <td>631798.44</td>\n",
       "      <td>0.60</td>\n",
       "    </tr>\n",
       "  </tbody>\n",
       "</table>\n",
       "</div>"
      ],
      "text/plain": [
       "         Date   org  TotalVolOrg  TotalBagsOrg  year      region   Timestamp  \\\n",
       "0  2015-02-01  1.11    196031.90      11697.02  2015  California  1420088520   \n",
       "1  2015-03-01  1.15    250298.58      12478.15  2015  California  1420088580   \n",
       "2  2015-11-01  1.60    104331.19      20872.84  2015  California  1420089060   \n",
       "3  2015-08-02  1.99     89435.60       9234.73  2015  California  1420175280   \n",
       "4  2015-05-03  1.48    119059.56      13339.71  2015  California  1420261500   \n",
       "\n",
       "   conv  TotalVolConv  TotalBagsConv  diff  \n",
       "0  0.85    9032180.67      600149.24  0.26  \n",
       "1  0.84    6700134.25      552070.01  0.31  \n",
       "2  0.95    5830427.96      651915.96  0.65  \n",
       "3  1.16    5428238.87      566776.08  0.83  \n",
       "4  0.88    8567534.49      631798.44  0.60  "
      ]
     },
     "execution_count": 3,
     "metadata": {},
     "output_type": "execute_result"
    }
   ],
   "source": [
    "df.head()"
   ]
  },
  {
   "cell_type": "code",
   "execution_count": null,
   "metadata": {},
   "outputs": [],
   "source": [
    "df.sort_values(by=['Timestamp']).reset_index()"
   ]
  }
 ],
 "metadata": {
  "kernelspec": {
   "display_name": "Python 3",
   "language": "python",
   "name": "python3"
  },
  "language_info": {
   "codemirror_mode": {
    "name": "ipython",
    "version": 3
   },
   "file_extension": ".py",
   "mimetype": "text/x-python",
   "name": "python",
   "nbconvert_exporter": "python",
   "pygments_lexer": "ipython3",
   "version": "3.7.3"
  }
 },
 "nbformat": 4,
 "nbformat_minor": 4
}
